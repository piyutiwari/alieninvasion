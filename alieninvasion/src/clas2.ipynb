{
 "cells": [
  {
   "cell_type": "code",
   "execution_count": 12,
   "metadata": {},
   "outputs": [],
   "source": [
    "class Multiply:\n",
    "    def __init__(self, a):\n",
    "        self.num = a\n",
    "    \n",
    "    def multix(self, b):\n",
    "        return self.num * b"
   ]
  },
  {
   "cell_type": "code",
   "execution_count": 13,
   "metadata": {},
   "outputs": [],
   "source": [
    "# create instance of class\n",
    "instance_of_multiply = Multiply(5)"
   ]
  },
  {
   "cell_type": "code",
   "execution_count": 14,
   "metadata": {},
   "outputs": [
    {
     "data": {
      "text/plain": [
       "30"
      ]
     },
     "execution_count": 14,
     "metadata": {},
     "output_type": "execute_result"
    }
   ],
   "source": [
    "instance_of_multiply.multix(6)"
   ]
  }
 ],
 "metadata": {
  "interpreter": {
   "hash": "6ddabee498df535724308977c4291bc5e55e41e16a2c598890ff022dd26b60f1"
  },
  "kernelspec": {
   "display_name": "Python 3.9.12 ('alieninvasion')",
   "language": "python",
   "name": "python3"
  },
  "language_info": {
   "codemirror_mode": {
    "name": "ipython",
    "version": 3
   },
   "file_extension": ".py",
   "mimetype": "text/x-python",
   "name": "python",
   "nbconvert_exporter": "python",
   "pygments_lexer": "ipython3",
   "version": "3.9.12"
  },
  "orig_nbformat": 4
 },
 "nbformat": 4,
 "nbformat_minor": 2
}
